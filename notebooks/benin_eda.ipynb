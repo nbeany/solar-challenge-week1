{
 "cells": [
  {
   "cell_type": "code",
   "execution_count": 1,
   "id": "initial_id",
   "metadata": {
    "collapsed": true,
    "jupyter": {
     "is_executing": true
    }
   },
   "outputs": [
    {
     "ename": "KeyboardInterrupt",
     "evalue": "",
     "output_type": "error",
     "traceback": [
      "\u001b[31m---------------------------------------------------------------------------\u001b[39m",
      "\u001b[31mKeyboardInterrupt\u001b[39m                         Traceback (most recent call last)",
      "\u001b[36mCell\u001b[39m\u001b[36m \u001b[39m\u001b[32mIn[1]\u001b[39m\u001b[32m, line 1\u001b[39m\n\u001b[32m----> \u001b[39m\u001b[32m1\u001b[39m \u001b[38;5;28;01mimport\u001b[39;00m\u001b[38;5;250m \u001b[39m\u001b[34;01mpandas\u001b[39;00m\u001b[38;5;250m \u001b[39m\u001b[38;5;28;01mas\u001b[39;00m\u001b[38;5;250m \u001b[39m\u001b[34;01mpd\u001b[39;00m\n\u001b[32m      2\u001b[39m \u001b[38;5;28;01mimport\u001b[39;00m\u001b[38;5;250m \u001b[39m\u001b[34;01mnumpy\u001b[39;00m\u001b[38;5;250m \u001b[39m\u001b[38;5;28;01mas\u001b[39;00m\u001b[38;5;250m \u001b[39m\u001b[34;01mnp\u001b[39;00m\n\u001b[32m      3\u001b[39m \u001b[38;5;28;01mimport\u001b[39;00m\u001b[38;5;250m \u001b[39m\u001b[34;01mmatplotlib\u001b[39;00m\u001b[34;01m.\u001b[39;00m\u001b[34;01mpyplot\u001b[39;00m\u001b[38;5;250m \u001b[39m\u001b[38;5;28;01mas\u001b[39;00m\u001b[38;5;250m \u001b[39m\u001b[34;01mplt\u001b[39;00m\n",
      "\u001b[36mFile \u001b[39m\u001b[32mc:\\Users\\hp\\AppData\\Local\\Programs\\Python\\Python311\\Lib\\site-packages\\pandas\\__init__.py:62\u001b[39m\n\u001b[32m     59\u001b[39m \u001b[38;5;66;03m# let init-time option registration happen\u001b[39;00m\n\u001b[32m     60\u001b[39m \u001b[38;5;28;01mimport\u001b[39;00m\u001b[38;5;250m \u001b[39m\u001b[34;01mpandas\u001b[39;00m\u001b[34;01m.\u001b[39;00m\u001b[34;01mcore\u001b[39;00m\u001b[34;01m.\u001b[39;00m\u001b[34;01mconfig_init\u001b[39;00m  \u001b[38;5;66;03m# pyright: ignore[reportUnusedImport] # noqa: F401\u001b[39;00m\n\u001b[32m---> \u001b[39m\u001b[32m62\u001b[39m \u001b[38;5;28;01mfrom\u001b[39;00m\u001b[38;5;250m \u001b[39m\u001b[34;01mpandas\u001b[39;00m\u001b[34;01m.\u001b[39;00m\u001b[34;01mcore\u001b[39;00m\u001b[34;01m.\u001b[39;00m\u001b[34;01mapi\u001b[39;00m\u001b[38;5;250m \u001b[39m\u001b[38;5;28;01mimport\u001b[39;00m (\n\u001b[32m     63\u001b[39m     \u001b[38;5;66;03m# dtype\u001b[39;00m\n\u001b[32m     64\u001b[39m     ArrowDtype,\n\u001b[32m     65\u001b[39m     Int8Dtype,\n\u001b[32m     66\u001b[39m     Int16Dtype,\n\u001b[32m     67\u001b[39m     Int32Dtype,\n\u001b[32m     68\u001b[39m     Int64Dtype,\n\u001b[32m     69\u001b[39m     UInt8Dtype,\n\u001b[32m     70\u001b[39m     UInt16Dtype,\n\u001b[32m     71\u001b[39m     UInt32Dtype,\n\u001b[32m     72\u001b[39m     UInt64Dtype,\n\u001b[32m     73\u001b[39m     Float32Dtype,\n\u001b[32m     74\u001b[39m     Float64Dtype,\n\u001b[32m     75\u001b[39m     CategoricalDtype,\n\u001b[32m     76\u001b[39m     PeriodDtype,\n\u001b[32m     77\u001b[39m     IntervalDtype,\n\u001b[32m     78\u001b[39m     DatetimeTZDtype,\n\u001b[32m     79\u001b[39m     StringDtype,\n\u001b[32m     80\u001b[39m     BooleanDtype,\n\u001b[32m     81\u001b[39m     \u001b[38;5;66;03m# missing\u001b[39;00m\n\u001b[32m     82\u001b[39m     NA,\n\u001b[32m     83\u001b[39m     isna,\n\u001b[32m     84\u001b[39m     isnull,\n\u001b[32m     85\u001b[39m     notna,\n\u001b[32m     86\u001b[39m     notnull,\n\u001b[32m     87\u001b[39m     \u001b[38;5;66;03m# indexes\u001b[39;00m\n\u001b[32m     88\u001b[39m     Index,\n\u001b[32m     89\u001b[39m     CategoricalIndex,\n\u001b[32m     90\u001b[39m     RangeIndex,\n\u001b[32m     91\u001b[39m     MultiIndex,\n\u001b[32m     92\u001b[39m     IntervalIndex,\n\u001b[32m     93\u001b[39m     TimedeltaIndex,\n\u001b[32m     94\u001b[39m     DatetimeIndex,\n\u001b[32m     95\u001b[39m     PeriodIndex,\n\u001b[32m     96\u001b[39m     IndexSlice,\n\u001b[32m     97\u001b[39m     \u001b[38;5;66;03m# tseries\u001b[39;00m\n\u001b[32m     98\u001b[39m     NaT,\n\u001b[32m     99\u001b[39m     Period,\n\u001b[32m    100\u001b[39m     period_range,\n\u001b[32m    101\u001b[39m     Timedelta,\n\u001b[32m    102\u001b[39m     timedelta_range,\n\u001b[32m    103\u001b[39m     Timestamp,\n\u001b[32m    104\u001b[39m     date_range,\n\u001b[32m    105\u001b[39m     bdate_range,\n\u001b[32m    106\u001b[39m     Interval,\n\u001b[32m    107\u001b[39m     interval_range,\n\u001b[32m    108\u001b[39m     DateOffset,\n\u001b[32m    109\u001b[39m     \u001b[38;5;66;03m# conversion\u001b[39;00m\n\u001b[32m    110\u001b[39m     to_numeric,\n\u001b[32m    111\u001b[39m     to_datetime,\n\u001b[32m    112\u001b[39m     to_timedelta,\n\u001b[32m    113\u001b[39m     \u001b[38;5;66;03m# misc\u001b[39;00m\n\u001b[32m    114\u001b[39m     Flags,\n\u001b[32m    115\u001b[39m     Grouper,\n\u001b[32m    116\u001b[39m     factorize,\n\u001b[32m    117\u001b[39m     unique,\n\u001b[32m    118\u001b[39m     value_counts,\n\u001b[32m    119\u001b[39m     NamedAgg,\n\u001b[32m    120\u001b[39m     array,\n\u001b[32m    121\u001b[39m     Categorical,\n\u001b[32m    122\u001b[39m     set_eng_float_format,\n\u001b[32m    123\u001b[39m     Series,\n\u001b[32m    124\u001b[39m     DataFrame,\n\u001b[32m    125\u001b[39m )\n\u001b[32m    127\u001b[39m \u001b[38;5;28;01mfrom\u001b[39;00m\u001b[38;5;250m \u001b[39m\u001b[34;01mpandas\u001b[39;00m\u001b[34;01m.\u001b[39;00m\u001b[34;01mcore\u001b[39;00m\u001b[34;01m.\u001b[39;00m\u001b[34;01mdtypes\u001b[39;00m\u001b[34;01m.\u001b[39;00m\u001b[34;01mdtypes\u001b[39;00m\u001b[38;5;250m \u001b[39m\u001b[38;5;28;01mimport\u001b[39;00m SparseDtype\n\u001b[32m    129\u001b[39m \u001b[38;5;28;01mfrom\u001b[39;00m\u001b[38;5;250m \u001b[39m\u001b[34;01mpandas\u001b[39;00m\u001b[34;01m.\u001b[39;00m\u001b[34;01mtseries\u001b[39;00m\u001b[34;01m.\u001b[39;00m\u001b[34;01mapi\u001b[39;00m\u001b[38;5;250m \u001b[39m\u001b[38;5;28;01mimport\u001b[39;00m infer_freq\n",
      "\u001b[36mFile \u001b[39m\u001b[32mc:\\Users\\hp\\AppData\\Local\\Programs\\Python\\Python311\\Lib\\site-packages\\pandas\\core\\api.py:28\u001b[39m\n\u001b[32m     16\u001b[39m \u001b[38;5;28;01mfrom\u001b[39;00m\u001b[38;5;250m \u001b[39m\u001b[34;01mpandas\u001b[39;00m\u001b[34;01m.\u001b[39;00m\u001b[34;01mcore\u001b[39;00m\u001b[34;01m.\u001b[39;00m\u001b[34;01mdtypes\u001b[39;00m\u001b[34;01m.\u001b[39;00m\u001b[34;01mmissing\u001b[39;00m\u001b[38;5;250m \u001b[39m\u001b[38;5;28;01mimport\u001b[39;00m (\n\u001b[32m     17\u001b[39m     isna,\n\u001b[32m     18\u001b[39m     isnull,\n\u001b[32m     19\u001b[39m     notna,\n\u001b[32m     20\u001b[39m     notnull,\n\u001b[32m     21\u001b[39m )\n\u001b[32m     23\u001b[39m \u001b[38;5;28;01mfrom\u001b[39;00m\u001b[38;5;250m \u001b[39m\u001b[34;01mpandas\u001b[39;00m\u001b[34;01m.\u001b[39;00m\u001b[34;01mcore\u001b[39;00m\u001b[34;01m.\u001b[39;00m\u001b[34;01malgorithms\u001b[39;00m\u001b[38;5;250m \u001b[39m\u001b[38;5;28;01mimport\u001b[39;00m (\n\u001b[32m     24\u001b[39m     factorize,\n\u001b[32m     25\u001b[39m     unique,\n\u001b[32m     26\u001b[39m     value_counts,\n\u001b[32m     27\u001b[39m )\n\u001b[32m---> \u001b[39m\u001b[32m28\u001b[39m \u001b[38;5;28;01mfrom\u001b[39;00m\u001b[38;5;250m \u001b[39m\u001b[34;01mpandas\u001b[39;00m\u001b[34;01m.\u001b[39;00m\u001b[34;01mcore\u001b[39;00m\u001b[34;01m.\u001b[39;00m\u001b[34;01marrays\u001b[39;00m\u001b[38;5;250m \u001b[39m\u001b[38;5;28;01mimport\u001b[39;00m Categorical\n\u001b[32m     29\u001b[39m \u001b[38;5;28;01mfrom\u001b[39;00m\u001b[38;5;250m \u001b[39m\u001b[34;01mpandas\u001b[39;00m\u001b[34;01m.\u001b[39;00m\u001b[34;01mcore\u001b[39;00m\u001b[34;01m.\u001b[39;00m\u001b[34;01marrays\u001b[39;00m\u001b[34;01m.\u001b[39;00m\u001b[34;01mboolean\u001b[39;00m\u001b[38;5;250m \u001b[39m\u001b[38;5;28;01mimport\u001b[39;00m BooleanDtype\n\u001b[32m     30\u001b[39m \u001b[38;5;28;01mfrom\u001b[39;00m\u001b[38;5;250m \u001b[39m\u001b[34;01mpandas\u001b[39;00m\u001b[34;01m.\u001b[39;00m\u001b[34;01mcore\u001b[39;00m\u001b[34;01m.\u001b[39;00m\u001b[34;01marrays\u001b[39;00m\u001b[34;01m.\u001b[39;00m\u001b[34;01mfloating\u001b[39;00m\u001b[38;5;250m \u001b[39m\u001b[38;5;28;01mimport\u001b[39;00m (\n\u001b[32m     31\u001b[39m     Float32Dtype,\n\u001b[32m     32\u001b[39m     Float64Dtype,\n\u001b[32m     33\u001b[39m )\n",
      "\u001b[36mFile \u001b[39m\u001b[32mc:\\Users\\hp\\AppData\\Local\\Programs\\Python\\Python311\\Lib\\site-packages\\pandas\\core\\arrays\\__init__.py:1\u001b[39m\n\u001b[32m----> \u001b[39m\u001b[32m1\u001b[39m \u001b[38;5;28;01mfrom\u001b[39;00m\u001b[38;5;250m \u001b[39m\u001b[34;01mpandas\u001b[39;00m\u001b[34;01m.\u001b[39;00m\u001b[34;01mcore\u001b[39;00m\u001b[34;01m.\u001b[39;00m\u001b[34;01marrays\u001b[39;00m\u001b[34;01m.\u001b[39;00m\u001b[34;01marrow\u001b[39;00m\u001b[38;5;250m \u001b[39m\u001b[38;5;28;01mimport\u001b[39;00m ArrowExtensionArray\n\u001b[32m      2\u001b[39m \u001b[38;5;28;01mfrom\u001b[39;00m\u001b[38;5;250m \u001b[39m\u001b[34;01mpandas\u001b[39;00m\u001b[34;01m.\u001b[39;00m\u001b[34;01mcore\u001b[39;00m\u001b[34;01m.\u001b[39;00m\u001b[34;01marrays\u001b[39;00m\u001b[34;01m.\u001b[39;00m\u001b[34;01mbase\u001b[39;00m\u001b[38;5;250m \u001b[39m\u001b[38;5;28;01mimport\u001b[39;00m (\n\u001b[32m      3\u001b[39m     ExtensionArray,\n\u001b[32m      4\u001b[39m     ExtensionOpsMixin,\n\u001b[32m      5\u001b[39m     ExtensionScalarOpsMixin,\n\u001b[32m      6\u001b[39m )\n\u001b[32m      7\u001b[39m \u001b[38;5;28;01mfrom\u001b[39;00m\u001b[38;5;250m \u001b[39m\u001b[34;01mpandas\u001b[39;00m\u001b[34;01m.\u001b[39;00m\u001b[34;01mcore\u001b[39;00m\u001b[34;01m.\u001b[39;00m\u001b[34;01marrays\u001b[39;00m\u001b[34;01m.\u001b[39;00m\u001b[34;01mboolean\u001b[39;00m\u001b[38;5;250m \u001b[39m\u001b[38;5;28;01mimport\u001b[39;00m BooleanArray\n",
      "\u001b[36mFile \u001b[39m\u001b[32mc:\\Users\\hp\\AppData\\Local\\Programs\\Python\\Python311\\Lib\\site-packages\\pandas\\core\\arrays\\arrow\\__init__.py:1\u001b[39m\n\u001b[32m----> \u001b[39m\u001b[32m1\u001b[39m \u001b[38;5;28;01mfrom\u001b[39;00m\u001b[38;5;250m \u001b[39m\u001b[34;01mpandas\u001b[39;00m\u001b[34;01m.\u001b[39;00m\u001b[34;01mcore\u001b[39;00m\u001b[34;01m.\u001b[39;00m\u001b[34;01marrays\u001b[39;00m\u001b[34;01m.\u001b[39;00m\u001b[34;01marrow\u001b[39;00m\u001b[34;01m.\u001b[39;00m\u001b[34;01maccessors\u001b[39;00m\u001b[38;5;250m \u001b[39m\u001b[38;5;28;01mimport\u001b[39;00m (\n\u001b[32m      2\u001b[39m     ListAccessor,\n\u001b[32m      3\u001b[39m     StructAccessor,\n\u001b[32m      4\u001b[39m )\n\u001b[32m      5\u001b[39m \u001b[38;5;28;01mfrom\u001b[39;00m\u001b[38;5;250m \u001b[39m\u001b[34;01mpandas\u001b[39;00m\u001b[34;01m.\u001b[39;00m\u001b[34;01mcore\u001b[39;00m\u001b[34;01m.\u001b[39;00m\u001b[34;01marrays\u001b[39;00m\u001b[34;01m.\u001b[39;00m\u001b[34;01marrow\u001b[39;00m\u001b[34;01m.\u001b[39;00m\u001b[34;01marray\u001b[39;00m\u001b[38;5;250m \u001b[39m\u001b[38;5;28;01mimport\u001b[39;00m ArrowExtensionArray\n\u001b[32m      7\u001b[39m __all__ = [\u001b[33m\"\u001b[39m\u001b[33mArrowExtensionArray\u001b[39m\u001b[33m\"\u001b[39m, \u001b[33m\"\u001b[39m\u001b[33mStructAccessor\u001b[39m\u001b[33m\"\u001b[39m, \u001b[33m\"\u001b[39m\u001b[33mListAccessor\u001b[39m\u001b[33m\"\u001b[39m]\n",
      "\u001b[36mFile \u001b[39m\u001b[32mc:\\Users\\hp\\AppData\\Local\\Programs\\Python\\Python311\\Lib\\site-packages\\pandas\\core\\arrays\\arrow\\accessors.py:23\u001b[39m\n\u001b[32m     21\u001b[39m \u001b[38;5;28;01mif\u001b[39;00m \u001b[38;5;129;01mnot\u001b[39;00m pa_version_under10p1:\n\u001b[32m     22\u001b[39m     \u001b[38;5;28;01mimport\u001b[39;00m\u001b[38;5;250m \u001b[39m\u001b[34;01mpyarrow\u001b[39;00m\u001b[38;5;250m \u001b[39m\u001b[38;5;28;01mas\u001b[39;00m\u001b[38;5;250m \u001b[39m\u001b[34;01mpa\u001b[39;00m\n\u001b[32m---> \u001b[39m\u001b[32m23\u001b[39m     \u001b[38;5;28;01mimport\u001b[39;00m\u001b[38;5;250m \u001b[39m\u001b[34;01mpyarrow\u001b[39;00m\u001b[34;01m.\u001b[39;00m\u001b[34;01mcompute\u001b[39;00m\u001b[38;5;250m \u001b[39m\u001b[38;5;28;01mas\u001b[39;00m\u001b[38;5;250m \u001b[39m\u001b[34;01mpc\u001b[39;00m\n\u001b[32m     25\u001b[39m     \u001b[38;5;28;01mfrom\u001b[39;00m\u001b[38;5;250m \u001b[39m\u001b[34;01mpandas\u001b[39;00m\u001b[34;01m.\u001b[39;00m\u001b[34;01mcore\u001b[39;00m\u001b[34;01m.\u001b[39;00m\u001b[34;01mdtypes\u001b[39;00m\u001b[34;01m.\u001b[39;00m\u001b[34;01mdtypes\u001b[39;00m\u001b[38;5;250m \u001b[39m\u001b[38;5;28;01mimport\u001b[39;00m ArrowDtype\n\u001b[32m     27\u001b[39m \u001b[38;5;28;01mif\u001b[39;00m TYPE_CHECKING:\n",
      "\u001b[36mFile \u001b[39m\u001b[32mc:\\Users\\hp\\AppData\\Local\\Programs\\Python\\Python311\\Lib\\site-packages\\pyarrow\\compute.py:18\u001b[39m\n\u001b[32m      1\u001b[39m \u001b[38;5;66;03m# Licensed to the Apache Software Foundation (ASF) under one\u001b[39;00m\n\u001b[32m      2\u001b[39m \u001b[38;5;66;03m# or more contributor license agreements.  See the NOTICE file\u001b[39;00m\n\u001b[32m      3\u001b[39m \u001b[38;5;66;03m# distributed with this work for additional information\u001b[39;00m\n\u001b[32m   (...)\u001b[39m\u001b[32m     15\u001b[39m \u001b[38;5;66;03m# specific language governing permissions and limitations\u001b[39;00m\n\u001b[32m     16\u001b[39m \u001b[38;5;66;03m# under the License.\u001b[39;00m\n\u001b[32m---> \u001b[39m\u001b[32m18\u001b[39m \u001b[38;5;28;01mfrom\u001b[39;00m\u001b[38;5;250m \u001b[39m\u001b[34;01mpyarrow\u001b[39;00m\u001b[34;01m.\u001b[39;00m\u001b[34;01m_compute\u001b[39;00m\u001b[38;5;250m \u001b[39m\u001b[38;5;28;01mimport\u001b[39;00m (  \u001b[38;5;66;03m# noqa\u001b[39;00m\n\u001b[32m     19\u001b[39m     Function,\n\u001b[32m     20\u001b[39m     FunctionOptions,\n\u001b[32m     21\u001b[39m     FunctionRegistry,\n\u001b[32m     22\u001b[39m     HashAggregateFunction,\n\u001b[32m     23\u001b[39m     HashAggregateKernel,\n\u001b[32m     24\u001b[39m     Kernel,\n\u001b[32m     25\u001b[39m     ScalarAggregateFunction,\n\u001b[32m     26\u001b[39m     ScalarAggregateKernel,\n\u001b[32m     27\u001b[39m     ScalarFunction,\n\u001b[32m     28\u001b[39m     ScalarKernel,\n\u001b[32m     29\u001b[39m     VectorFunction,\n\u001b[32m     30\u001b[39m     VectorKernel,\n\u001b[32m     31\u001b[39m     \u001b[38;5;66;03m# Option classes\u001b[39;00m\n\u001b[32m     32\u001b[39m     ArraySortOptions,\n\u001b[32m     33\u001b[39m     AssumeTimezoneOptions,\n\u001b[32m     34\u001b[39m     CastOptions,\n\u001b[32m     35\u001b[39m     CountOptions,\n\u001b[32m     36\u001b[39m     CumulativeOptions,\n\u001b[32m     37\u001b[39m     CumulativeSumOptions,\n\u001b[32m     38\u001b[39m     DayOfWeekOptions,\n\u001b[32m     39\u001b[39m     DictionaryEncodeOptions,\n\u001b[32m     40\u001b[39m     RunEndEncodeOptions,\n\u001b[32m     41\u001b[39m     ElementWiseAggregateOptions,\n\u001b[32m     42\u001b[39m     ExtractRegexOptions,\n\u001b[32m     43\u001b[39m     ExtractRegexSpanOptions,\n\u001b[32m     44\u001b[39m     FilterOptions,\n\u001b[32m     45\u001b[39m     IndexOptions,\n\u001b[32m     46\u001b[39m     JoinOptions,\n\u001b[32m     47\u001b[39m     ListSliceOptions,\n\u001b[32m     48\u001b[39m     ListFlattenOptions,\n\u001b[32m     49\u001b[39m     MakeStructOptions,\n\u001b[32m     50\u001b[39m     MapLookupOptions,\n\u001b[32m     51\u001b[39m     MatchSubstringOptions,\n\u001b[32m     52\u001b[39m     ModeOptions,\n\u001b[32m     53\u001b[39m     NullOptions,\n\u001b[32m     54\u001b[39m     PadOptions,\n\u001b[32m     55\u001b[39m     PairwiseOptions,\n\u001b[32m     56\u001b[39m     PartitionNthOptions,\n\u001b[32m     57\u001b[39m     PivotWiderOptions,\n\u001b[32m     58\u001b[39m     QuantileOptions,\n\u001b[32m     59\u001b[39m     RandomOptions,\n\u001b[32m     60\u001b[39m     RankOptions,\n\u001b[32m     61\u001b[39m     RankQuantileOptions,\n\u001b[32m     62\u001b[39m     ReplaceSliceOptions,\n\u001b[32m     63\u001b[39m     ReplaceSubstringOptions,\n\u001b[32m     64\u001b[39m     RoundBinaryOptions,\n\u001b[32m     65\u001b[39m     RoundOptions,\n\u001b[32m     66\u001b[39m     RoundTemporalOptions,\n\u001b[32m     67\u001b[39m     RoundToMultipleOptions,\n\u001b[32m     68\u001b[39m     ScalarAggregateOptions,\n\u001b[32m     69\u001b[39m     SelectKOptions,\n\u001b[32m     70\u001b[39m     SetLookupOptions,\n\u001b[32m     71\u001b[39m     SkewOptions,\n\u001b[32m     72\u001b[39m     SliceOptions,\n\u001b[32m     73\u001b[39m     SortOptions,\n\u001b[32m     74\u001b[39m     SplitOptions,\n\u001b[32m     75\u001b[39m     SplitPatternOptions,\n\u001b[32m     76\u001b[39m     StrftimeOptions,\n\u001b[32m     77\u001b[39m     StrptimeOptions,\n\u001b[32m     78\u001b[39m     StructFieldOptions,\n\u001b[32m     79\u001b[39m     TakeOptions,\n\u001b[32m     80\u001b[39m     TDigestOptions,\n\u001b[32m     81\u001b[39m     TrimOptions,\n\u001b[32m     82\u001b[39m     Utf8NormalizeOptions,\n\u001b[32m     83\u001b[39m     VarianceOptions,\n\u001b[32m     84\u001b[39m     WeekOptions,\n\u001b[32m     85\u001b[39m     WinsorizeOptions,\n\u001b[32m     86\u001b[39m     \u001b[38;5;66;03m# Functions\u001b[39;00m\n\u001b[32m     87\u001b[39m     call_function,\n\u001b[32m     88\u001b[39m     function_registry,\n\u001b[32m     89\u001b[39m     get_function,\n\u001b[32m     90\u001b[39m     list_functions,\n\u001b[32m     91\u001b[39m     \u001b[38;5;66;03m# Udf\u001b[39;00m\n\u001b[32m     92\u001b[39m     call_tabular_function,\n\u001b[32m     93\u001b[39m     register_scalar_function,\n\u001b[32m     94\u001b[39m     register_tabular_function,\n\u001b[32m     95\u001b[39m     register_aggregate_function,\n\u001b[32m     96\u001b[39m     register_vector_function,\n\u001b[32m     97\u001b[39m     UdfContext,\n\u001b[32m     98\u001b[39m     \u001b[38;5;66;03m# Expressions\u001b[39;00m\n\u001b[32m     99\u001b[39m     Expression,\n\u001b[32m    100\u001b[39m )\n\u001b[32m    102\u001b[39m \u001b[38;5;28;01mfrom\u001b[39;00m\u001b[38;5;250m \u001b[39m\u001b[34;01mcollections\u001b[39;00m\u001b[38;5;250m \u001b[39m\u001b[38;5;28;01mimport\u001b[39;00m namedtuple\n\u001b[32m    103\u001b[39m \u001b[38;5;28;01mimport\u001b[39;00m\u001b[38;5;250m \u001b[39m\u001b[34;01minspect\u001b[39;00m\n",
      "\u001b[36mFile \u001b[39m\u001b[32m<frozen importlib._bootstrap>:1176\u001b[39m, in \u001b[36m_find_and_load\u001b[39m\u001b[34m(name, import_)\u001b[39m\n",
      "\u001b[36mFile \u001b[39m\u001b[32m<frozen importlib._bootstrap>:1147\u001b[39m, in \u001b[36m_find_and_load_unlocked\u001b[39m\u001b[34m(name, import_)\u001b[39m\n",
      "\u001b[36mFile \u001b[39m\u001b[32m<frozen importlib._bootstrap>:690\u001b[39m, in \u001b[36m_load_unlocked\u001b[39m\u001b[34m(spec)\u001b[39m\n",
      "\u001b[36mFile \u001b[39m\u001b[32m<frozen importlib._bootstrap_external>:1242\u001b[39m, in \u001b[36mexec_module\u001b[39m\u001b[34m(self, module)\u001b[39m\n",
      "\u001b[36mFile \u001b[39m\u001b[32m<frozen importlib._bootstrap>:244\u001b[39m, in \u001b[36m_verbose_message\u001b[39m\u001b[34m(message, verbosity, *args)\u001b[39m\n",
      "\u001b[31mKeyboardInterrupt\u001b[39m: "
     ]
    }
   ],
   "source": [
    "import pandas as pd\n",
    "import numpy as np\n",
    "import matplotlib.pyplot as plt\n",
    "import seaborn as sns\n",
    "from scipy.stats import zscore\n",
    "from windrose import WindroseAxes\n",
    "\n",
    "# Set styles\n",
    "sns.set(style='whitegrid')\n",
    "\n",
    "# 2. Load Data\n",
    "df = pd.read_csv('benin-malanville.csv')  # adjust path if needed\n",
    "\n",
    "# 3. Summary Statistics & Missing Values\n",
    "print(df.describe())\n",
    "missing_report = df.isna().sum()\n",
    "print(\"\\nMissing Values:\\n\", missing_report[missing_report > 0])\n",
    "\n",
    "# Highlight >5% missing\n",
    "missing_percent = df.isna().mean() * 100\n",
    "print(\"\\n>5% Missing Columns:\\n\", missing_percent[missing_percent > 5])\n",
    "\n",
    "# 4. Outlier Detection with Z-score\n",
    "cols_to_check = ['GHI', 'DNI', 'DHI', 'ModA', 'ModB', 'WS', 'WSgust']\n",
    "z_scores = df[cols_to_check].apply(zscore)\n",
    "outliers = (z_scores.abs() > 3).any(axis=1)\n",
    "print(f\"Outliers found: {outliers.sum()}\")\n",
    "df_clean = df[~outliers].copy()\n",
    "\n",
    "# 5. Impute Missing Values with Median\n",
    "for col in cols_to_check:\n",
    "    df_clean[col] = df_clean[col].fillna(df_clean[col].median())\n",
    "\n",
    "# 6. Save Cleaned CSV\n",
    "df_clean.to_csv('benin-malanville-cleaned.csv', index=False)\n",
    "\n",
    "# 7. Time Series Plot\n",
    "plt.figure(figsize=(14, 6))\n",
    "for col in ['GHI', 'DNI', 'DHI', 'Tamb']:\n",
    "    sns.lineplot(data=df_clean, x='Timestamp', y=col, label=col)\n",
    "plt.title('Benin - Irradiance and Temperature Over Time')\n",
    "plt.xticks(rotation=45)\n",
    "plt.legend()\n",
    "plt.tight_layout()\n",
    "plt.show()\n",
    "\n",
    "# 8. Cleaning Impact Analysis\n",
    "if 'Cleaning' in df_clean.columns:\n",
    "    df_clean.groupby('Cleaning')[['ModA', 'ModB']].mean().plot(kind='bar')\n",
    "    plt.title('Cleaning Effect on ModA & ModB')\n",
    "    plt.show()\n",
    "\n",
    "# 9. Correlation Heatmap\n",
    "sns.heatmap(df_clean[['GHI', 'DNI', 'DHI', 'TModA', 'TModB']].corr(), annot=True, cmap='coolwarm')\n",
    "plt.title('Correlation Matrix')\n",
    "plt.show()\n",
    "\n",
    "# 10. Wind Rose\n",
    "ax = WindroseAxes.from_ax()\n",
    "ax.bar(df_clean['WD'], df_clean['WS'], normed=True, opening=0.8, edgecolor='white')\n",
    "ax.set_legend()\n",
    "\n",
    "# 11. Histograms\n",
    "plt.hist(df_clean['GHI'], bins=30, alpha=0.6, label='GHI')\n",
    "plt.hist(df_clean['WS'], bins=30, alpha=0.6, label='WS')\n",
    "plt.legend()\n",
    "plt.title('Distribution of GHI and WS')\n",
    "plt.show()\n",
    "\n",
    "# 12. RH and Temperature\n",
    "sns.scatterplot(data=df_clean, x='RH', y='Tamb', hue='GHI')\n",
    "plt.title('RH vs Tamb colored by GHI')\n",
    "plt.show()\n",
    "\n",
    "# 13. Bubble Chart\n",
    "plt.scatter(df_clean['GHI'], df_clean['Tamb'], s=df_clean['RH'], alpha=0.5)\n",
    "plt.xlabel(\"GHI\")\n",
    "plt.ylabel(\"Tamb\")\n",
    "plt.title(\"GHI vs Tamb (Bubble size = RH)\")\n",
    "plt.show()\n"
   ]
  },
  {
   "cell_type": "code",
   "execution_count": null,
   "id": "6637a0e1",
   "metadata": {},
   "outputs": [],
   "source": []
  },
  {
   "cell_type": "code",
   "execution_count": null,
   "id": "9f60b738",
   "metadata": {},
   "outputs": [],
   "source": []
  },
  {
   "cell_type": "code",
   "execution_count": null,
   "id": "f4e3bbb7922cdc5f",
   "metadata": {},
   "outputs": [],
   "source": []
  }
 ],
 "metadata": {
  "kernelspec": {
   "display_name": "Python 3",
   "language": "python",
   "name": "python3"
  },
  "language_info": {
   "codemirror_mode": {
    "name": "ipython",
    "version": 3
   },
   "file_extension": ".py",
   "mimetype": "text/x-python",
   "name": "python",
   "nbconvert_exporter": "python",
   "pygments_lexer": "ipython3",
   "version": "3.11.5"
  }
 },
 "nbformat": 4,
 "nbformat_minor": 5
}
